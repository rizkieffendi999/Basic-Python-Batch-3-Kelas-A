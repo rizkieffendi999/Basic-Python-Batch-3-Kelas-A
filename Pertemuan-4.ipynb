{
 "cells": [
  {
   "cell_type": "markdown",
   "metadata": {},
   "source": [
    "# Dictionary"
   ]
  },
  {
   "cell_type": "code",
   "execution_count": 19,
   "metadata": {},
   "outputs": [
    {
     "name": "stdout",
     "output_type": "stream",
     "text": [
      "Nama: farhan\n",
      "Umur: 21\n"
     ]
    }
   ],
   "source": [
    "pelanggan = {\n",
    "    \"nama\" : \"farhan\",\n",
    "    \"umur\" : 21\n",
    "}\n",
    "\n",
    "pelanggan_2 ={\"nama\": \"andi\", \"umur\" : 18}\n",
    "\n",
    "print(\"Nama: {}\".format(pelanggan[\"nama\"]))\n",
    "print(\"Umur: {}\".format(pelanggan[\"umur\"]))"
   ]
  },
  {
   "cell_type": "code",
   "execution_count": 16,
   "metadata": {},
   "outputs": [
    {
     "name": "stdout",
     "output_type": "stream",
     "text": [
      "Nama: andi\n",
      "Umur: 18\n"
     ]
    }
   ],
   "source": [
    "print(\"Nama: {}\".format(pelanggan_2[\"nama\"]))\n",
    "print(\"Umur: {}\".format(pelanggan_2[\"umur\"]))"
   ]
  },
  {
   "cell_type": "code",
   "execution_count": 17,
   "metadata": {},
   "outputs": [
    {
     "name": "stdout",
     "output_type": "stream",
     "text": [
      "Nama: {'nama': 'farhan', 'umur': 21}\n"
     ]
    }
   ],
   "source": [
    "print(\"Nama: {}\".format(pelanggan))"
   ]
  },
  {
   "cell_type": "code",
   "execution_count": 18,
   "metadata": {},
   "outputs": [
    {
     "name": "stdout",
     "output_type": "stream",
     "text": [
      "{'nama': 'farhan', 'umur': 21}\n"
     ]
    }
   ],
   "source": [
    "print(pelanggan)"
   ]
  },
  {
   "cell_type": "code",
   "execution_count": null,
   "metadata": {},
   "outputs": [],
   "source": [
    "# mengganti nilai di dalam dictionary"
   ]
  },
  {
   "cell_type": "code",
   "execution_count": 20,
   "metadata": {},
   "outputs": [
    {
     "name": "stdout",
     "output_type": "stream",
     "text": [
      "{'nama': 'farhan', 'umur': 22}\n"
     ]
    }
   ],
   "source": [
    "pelanggan [\"umur\"] = 22\n",
    "print(pelanggan)"
   ]
  },
  {
   "cell_type": "code",
   "execution_count": 21,
   "metadata": {},
   "outputs": [
    {
     "name": "stdout",
     "output_type": "stream",
     "text": [
      "Nama: farhan\n",
      "Umur: 22\n"
     ]
    }
   ],
   "source": [
    "print(\"Nama: {}\".format(pelanggan[\"nama\"]))\n",
    "print(\"Umur: {}\".format(pelanggan[\"umur\"]))"
   ]
  },
  {
   "cell_type": "code",
   "execution_count": null,
   "metadata": {},
   "outputs": [],
   "source": [
    "# loop dictionary"
   ]
  },
  {
   "cell_type": "code",
   "execution_count": 24,
   "metadata": {},
   "outputs": [
    {
     "name": "stdout",
     "output_type": "stream",
     "text": [
      "nama\n",
      "farhan\n",
      "andi\n",
      "umur\n",
      "22\n",
      "18\n"
     ]
    }
   ],
   "source": [
    "for x in pelanggan:\n",
    "    print (x)\n",
    "    print(pelanggan [x])\n",
    "    print(pelanggan_2[x])"
   ]
  },
  {
   "cell_type": "code",
   "execution_count": 26,
   "metadata": {},
   "outputs": [
    {
     "name": "stdout",
     "output_type": "stream",
     "text": [
      "Nama: andi\n",
      "Umur: 18\n",
      "Nama: andi\n",
      "Umur: 18\n"
     ]
    }
   ],
   "source": [
    "# List Dictionary\n",
    "\n",
    "daftar_pelanggan = []\n",
    "daftar_pelanggan.append(pelanggan)\n",
    "daftar_pelanggan.append(pelanggan_2)\n",
    "\n",
    "for i in daftar_pelanggan:\n",
    "    print(\"Nama: {}\".format(i[\"nama\"]))\n",
    "    print(\"Umur: {}\".format(i[\"umur\"]))\n"
   ]
  },
  {
   "cell_type": "code",
   "execution_count": null,
   "metadata": {},
   "outputs": [],
   "source": [
    "# menghapus nilai di dalam dictionary"
   ]
  },
  {
   "cell_type": "code",
   "execution_count": 35,
   "metadata": {},
   "outputs": [
    {
     "name": "stdout",
     "output_type": "stream",
     "text": [
      "{}\n"
     ]
    }
   ],
   "source": [
    "#delete\n",
    "\n",
    "data = {\"Nama\": \"Zara\", \"Umur\": 25, \"Kelas\":\"Lima\"}\n",
    "data.clear() #menghapus semua entri di dalam dictionary\n",
    "print(data)"
   ]
  },
  {
   "cell_type": "code",
   "execution_count": 36,
   "metadata": {},
   "outputs": [
    {
     "name": "stdout",
     "output_type": "stream",
     "text": [
      "{'Umur': 25, 'Kelas': 'Lima'}\n"
     ]
    }
   ],
   "source": [
    "data = {\"Nama\": \"Zara\", \"Umur\": 25, \"Kelas\":\"Lima\"}\n",
    "del data [\"Nama\"] #hapus entri di dalam dictionary dengan key \"Nama\"\n",
    "print(data)"
   ]
  },
  {
   "cell_type": "code",
   "execution_count": 37,
   "metadata": {},
   "outputs": [
    {
     "ename": "KeyError",
     "evalue": "'Zara'",
     "output_type": "error",
     "traceback": [
      "\u001b[1;31m---------------------------------------------------------------------------\u001b[0m",
      "\u001b[1;31mKeyError\u001b[0m                                  Traceback (most recent call last)",
      "\u001b[1;32m<ipython-input-37-550f6091e8aa>\u001b[0m in \u001b[0;36m<module>\u001b[1;34m\u001b[0m\n\u001b[0;32m      1\u001b[0m \u001b[0mdata\u001b[0m \u001b[1;33m=\u001b[0m \u001b[1;33m{\u001b[0m\u001b[1;34m\"Nama\"\u001b[0m\u001b[1;33m:\u001b[0m \u001b[1;34m\"Zara\"\u001b[0m\u001b[1;33m,\u001b[0m \u001b[1;34m\"Umur\"\u001b[0m\u001b[1;33m:\u001b[0m \u001b[1;36m25\u001b[0m\u001b[1;33m,\u001b[0m \u001b[1;34m\"Kelas\"\u001b[0m\u001b[1;33m:\u001b[0m\u001b[1;34m\"Lima\"\u001b[0m\u001b[1;33m}\u001b[0m\u001b[1;33m\u001b[0m\u001b[1;33m\u001b[0m\u001b[0m\n\u001b[1;32m----> 2\u001b[1;33m \u001b[1;32mdel\u001b[0m \u001b[0mdata\u001b[0m \u001b[1;33m[\u001b[0m\u001b[1;34m\"Zara\"\u001b[0m\u001b[1;33m]\u001b[0m\u001b[1;33m\u001b[0m\u001b[1;33m\u001b[0m\u001b[0m\n\u001b[0m\u001b[0;32m      3\u001b[0m \u001b[0mprint\u001b[0m\u001b[1;33m(\u001b[0m\u001b[0mdata\u001b[0m\u001b[1;33m)\u001b[0m\u001b[1;33m\u001b[0m\u001b[1;33m\u001b[0m\u001b[0m\n",
      "\u001b[1;31mKeyError\u001b[0m: 'Zara'"
     ]
    }
   ],
   "source": [
    "data = {\"Nama\": \"Zara\", \"Umur\": 25, \"Kelas\":\"Lima\"}\n",
    "del data [\"Zara\"]\n",
    "print(data)"
   ]
  },
  {
   "cell_type": "code",
   "execution_count": 38,
   "metadata": {},
   "outputs": [
    {
     "ename": "NameError",
     "evalue": "name 'data' is not defined",
     "output_type": "error",
     "traceback": [
      "\u001b[1;31m---------------------------------------------------------------------------\u001b[0m",
      "\u001b[1;31mNameError\u001b[0m                                 Traceback (most recent call last)",
      "\u001b[1;32m<ipython-input-38-0bc9930aecc8>\u001b[0m in \u001b[0;36m<module>\u001b[1;34m\u001b[0m\n\u001b[0;32m      1\u001b[0m \u001b[0mdata\u001b[0m \u001b[1;33m=\u001b[0m \u001b[1;33m{\u001b[0m\u001b[1;34m\"Nama\"\u001b[0m\u001b[1;33m:\u001b[0m \u001b[1;34m\"Zara\"\u001b[0m\u001b[1;33m,\u001b[0m \u001b[1;34m\"Umur\"\u001b[0m\u001b[1;33m:\u001b[0m \u001b[1;36m25\u001b[0m\u001b[1;33m,\u001b[0m \u001b[1;34m\"Kelas\"\u001b[0m\u001b[1;33m:\u001b[0m\u001b[1;34m\"Lima\"\u001b[0m\u001b[1;33m}\u001b[0m\u001b[1;33m\u001b[0m\u001b[1;33m\u001b[0m\u001b[0m\n\u001b[0;32m      2\u001b[0m \u001b[1;32mdel\u001b[0m \u001b[0mdata\u001b[0m\u001b[1;33m\u001b[0m\u001b[1;33m\u001b[0m\u001b[0m\n\u001b[1;32m----> 3\u001b[1;33m \u001b[0mprint\u001b[0m\u001b[1;33m(\u001b[0m\u001b[0mdata\u001b[0m\u001b[1;33m)\u001b[0m\u001b[1;33m\u001b[0m\u001b[1;33m\u001b[0m\u001b[0m\n\u001b[0m",
      "\u001b[1;31mNameError\u001b[0m: name 'data' is not defined"
     ]
    }
   ],
   "source": [
    "data = {\"Nama\": \"Zara\", \"Umur\": 25, \"Kelas\":\"Lima\"}\n",
    "del data\n",
    "print(data)"
   ]
  },
  {
   "cell_type": "code",
   "execution_count": 39,
   "metadata": {},
   "outputs": [
    {
     "name": "stdout",
     "output_type": "stream",
     "text": [
      "{'Nama': 'Zara', 'Umur': 25, 'Kelas': 'Lima'}\n"
     ]
    }
   ],
   "source": [
    "data = {\"Nama\": \"Zara\", \"Umur\": 25, \"Kelas\":\"Lima\"}\n",
    "print(data)"
   ]
  },
  {
   "cell_type": "code",
   "execution_count": 43,
   "metadata": {},
   "outputs": [
    {
     "name": "stdout",
     "output_type": "stream",
     "text": [
      "dictionary [Nama]: Zara\n",
      "dictionary [Kelas]: Lima\n"
     ]
    }
   ],
   "source": [
    "data = {\"Nama\": \"Zara\", \"Umur\": 25, \"Kelas\":\"Lima\"}\n",
    "print(\"dictionary [Nama]:\", data[\"Nama\"])\n",
    "print(\"dictionary [Kelas]:\", data[\"Kelas\"])"
   ]
  },
  {
   "cell_type": "markdown",
   "metadata": {},
   "source": [
    "# Function"
   ]
  },
  {
   "cell_type": "code",
   "execution_count": 46,
   "metadata": {},
   "outputs": [
    {
     "name": "stdout",
     "output_type": "stream",
     "text": [
      "Hallo ini hanya coba function\n",
      "ini adalah function\n",
      "ini percobaan pertama\n"
     ]
    }
   ],
   "source": [
    "def coba_function():\n",
    "    print(\"Hallo ini hanya coba function\")\n",
    "    print(\"ini adalah function\")\n",
    "    print(\"ini percobaan pertama\")\n",
    "\n",
    "coba_function()"
   ]
  },
  {
   "cell_type": "code",
   "execution_count": 49,
   "metadata": {},
   "outputs": [
    {
     "name": "stdout",
     "output_type": "stream",
     "text": [
      "Hallo Adi - Wijaya\n",
      "Hallo Andi - Yusuf\n",
      "Hallo Budi -  \n"
     ]
    }
   ],
   "source": [
    "def my_function (first_name, last_name=\" \"):\n",
    "    print(\"Hallo {} - {}\".format(first_name,last_name))\n",
    "\n",
    "my_function(\"Adi\",\"Wijaya\")\n",
    "my_function(\"Andi\",\"Yusuf\")\n",
    "my_function(\"Budi\")"
   ]
  },
  {
   "cell_type": "code",
   "execution_count": 50,
   "metadata": {},
   "outputs": [
    {
     "ename": "TypeError",
     "evalue": "my_function() missing 1 required positional argument: 'last_name'",
     "output_type": "error",
     "traceback": [
      "\u001b[1;31m---------------------------------------------------------------------------\u001b[0m",
      "\u001b[1;31mTypeError\u001b[0m                                 Traceback (most recent call last)",
      "\u001b[1;32m<ipython-input-50-bc4c3f7d5e7b>\u001b[0m in \u001b[0;36m<module>\u001b[1;34m\u001b[0m\n\u001b[0;32m      2\u001b[0m     \u001b[0mprint\u001b[0m\u001b[1;33m(\u001b[0m\u001b[1;34m\"Hallo {} - {}\"\u001b[0m\u001b[1;33m.\u001b[0m\u001b[0mformat\u001b[0m\u001b[1;33m(\u001b[0m\u001b[0mfirst_name\u001b[0m\u001b[1;33m,\u001b[0m\u001b[0mlast_name\u001b[0m\u001b[1;33m)\u001b[0m\u001b[1;33m)\u001b[0m\u001b[1;33m\u001b[0m\u001b[1;33m\u001b[0m\u001b[0m\n\u001b[0;32m      3\u001b[0m \u001b[1;33m\u001b[0m\u001b[0m\n\u001b[1;32m----> 4\u001b[1;33m \u001b[0mmy_function\u001b[0m\u001b[1;33m(\u001b[0m\u001b[1;34m\"Budi\"\u001b[0m\u001b[1;33m)\u001b[0m\u001b[1;33m\u001b[0m\u001b[1;33m\u001b[0m\u001b[0m\n\u001b[0m",
      "\u001b[1;31mTypeError\u001b[0m: my_function() missing 1 required positional argument: 'last_name'"
     ]
    }
   ],
   "source": [
    "def my_function (first_name, last_name):\n",
    "    print(\"Hallo {} - {}\".format(first_name,last_name))\n",
    "\n",
    "my_function(\"Budi\")"
   ]
  },
  {
   "cell_type": "code",
   "execution_count": 51,
   "metadata": {},
   "outputs": [
    {
     "name": "stdout",
     "output_type": "stream",
     "text": [
      "Hallo   -  \n"
     ]
    }
   ],
   "source": [
    "def my_function (first_name=\" \", last_name=\" \"):\n",
    "    print(\"Hallo {} - {}\".format(first_name,last_name))\n",
    "\n",
    "my_function()"
   ]
  },
  {
   "cell_type": "code",
   "execution_count": null,
   "metadata": {},
   "outputs": [],
   "source": [
    "# function keywords"
   ]
  },
  {
   "cell_type": "code",
   "execution_count": 53,
   "metadata": {},
   "outputs": [
    {
     "name": "stdout",
     "output_type": "stream",
     "text": [
      "Anak yang paling kecil adalah Lusi\n",
      "Anak yang paling kecil adalah Adi\n"
     ]
    }
   ],
   "source": [
    "def my_function2(anak_ke3, anak_ke2, anak_ke1):\n",
    "    print(\"Anak yang paling kecil adalah\", anak_ke3)\n",
    "\n",
    "my_function2(anak_ke1 = \"Adi\", anak_ke2 = \"Budi\", anak_ke3 = \"Lusi\")\n",
    "my_function2(\"Adi\", \"Budi\", \"Lusi\")"
   ]
  },
  {
   "cell_type": "code",
   "execution_count": null,
   "metadata": {},
   "outputs": [],
   "source": [
    "# contoh function"
   ]
  },
  {
   "cell_type": "code",
   "execution_count": 59,
   "metadata": {},
   "outputs": [
    {
     "name": "stdout",
     "output_type": "stream",
     "text": [
      "jeruk\n",
      "------\n",
      "jeruk\n",
      "apel\n",
      "------\n",
      "jeruk\n",
      "apel\n",
      "melon\n",
      "------\n",
      "jeruk\n",
      "apel\n",
      "melon\n",
      "pisang\n",
      "------\n"
     ]
    }
   ],
   "source": [
    "nama_buah = []\n",
    "\n",
    "def tambah_nama_buah (nama):\n",
    "    nama_buah.append(nama)\n",
    "    print_nama_buah()\n",
    "\n",
    "def print_nama_buah():\n",
    "    for y in nama_buah:\n",
    "        print(y)\n",
    "    print(\"------\")\n",
    "\n",
    "tambah_nama_buah(\"jeruk\")\n",
    "tambah_nama_buah(\"apel\")\n",
    "tambah_nama_buah(\"melon\")\n",
    "tambah_nama_buah(\"pisang\")\n"
   ]
  },
  {
   "cell_type": "code",
   "execution_count": null,
   "metadata": {},
   "outputs": [],
   "source": [
    "# return"
   ]
  },
  {
   "cell_type": "code",
   "execution_count": 67,
   "metadata": {},
   "outputs": [
    {
     "data": {
      "text/plain": [
       "7"
      ]
     },
     "execution_count": 67,
     "metadata": {},
     "output_type": "execute_result"
    }
   ],
   "source": [
    "def total(x,y):\n",
    "    total = x + y\n",
    "    return total\n",
    "\n",
    "total (5,2)"
   ]
  },
  {
   "cell_type": "code",
   "execution_count": 68,
   "metadata": {},
   "outputs": [
    {
     "name": "stdout",
     "output_type": "stream",
     "text": [
      "7\n"
     ]
    }
   ],
   "source": [
    "def total(x,y):\n",
    "    total = x + y\n",
    "    return total\n",
    "\n",
    "jumlah = total (5,2)\n",
    "print(jumlah)"
   ]
  },
  {
   "cell_type": "code",
   "execution_count": 69,
   "metadata": {},
   "outputs": [
    {
     "data": {
      "text/plain": [
       "10"
      ]
     },
     "execution_count": 69,
     "metadata": {},
     "output_type": "execute_result"
    }
   ],
   "source": [
    "def total(x,y):\n",
    "    total = x + y\n",
    "    return 10\n",
    "\n",
    "total (5,2)"
   ]
  },
  {
   "cell_type": "code",
   "execution_count": 63,
   "metadata": {},
   "outputs": [
    {
     "name": "stdout",
     "output_type": "stream",
     "text": [
      "7\n"
     ]
    }
   ],
   "source": [
    "def total(x,y):\n",
    "    total = x + y\n",
    "    return total\n",
    "\n",
    "def total_buah_sisa():\n",
    "    return 20\n",
    "\n",
    "jumlah = total (5,2)\n",
    "print(jumlah)"
   ]
  },
  {
   "cell_type": "code",
   "execution_count": 73,
   "metadata": {},
   "outputs": [
    {
     "name": "stdout",
     "output_type": "stream",
     "text": [
      "7\n",
      "24\n"
     ]
    },
    {
     "data": {
      "text/plain": [
       "['jeruk', 'apel', 'melon', 'pisang']"
      ]
     },
     "execution_count": 73,
     "metadata": {},
     "output_type": "execute_result"
    }
   ],
   "source": [
    "def total(x,y):\n",
    "    total = x + y\n",
    "    return total\n",
    "\n",
    "def total_buah_sisa():\n",
    "    return 20\n",
    "\n",
    "jumlah = total (5,2)\n",
    "print(jumlah)\n",
    "\n",
    "total_buah = len(nama_buah) + total_buah_sisa ()\n",
    "print(total_buah)\n",
    "nama_buah"
   ]
  },
  {
   "cell_type": "code",
   "execution_count": null,
   "metadata": {},
   "outputs": [],
   "source": [
    "# contoh"
   ]
  },
  {
   "cell_type": "code",
   "execution_count": 77,
   "metadata": {},
   "outputs": [
    {
     "data": {
      "text/plain": [
       "4"
      ]
     },
     "execution_count": 77,
     "metadata": {},
     "output_type": "execute_result"
    }
   ],
   "source": [
    "def luas_persegi (sisi):\n",
    "    luas = sisi * sisi\n",
    "    return luas\n",
    "\n",
    "def volume (sisi):\n",
    "    volume = luas_persegi (sisi) * sisi\n",
    "    return volume\n",
    "\n",
    "luas_persegi (2)"
   ]
  },
  {
   "cell_type": "code",
   "execution_count": 78,
   "metadata": {},
   "outputs": [
    {
     "data": {
      "text/plain": [
       "27"
      ]
     },
     "execution_count": 78,
     "metadata": {},
     "output_type": "execute_result"
    }
   ],
   "source": [
    "def luas_persegi (sisi):\n",
    "    luas = sisi * sisi\n",
    "    return luas\n",
    "\n",
    "def volume (sisi):\n",
    "    volume = luas_persegi (sisi) * sisi\n",
    "    return volume\n",
    "\n",
    "luas_persegi (2)\n",
    "volume (3)"
   ]
  },
  {
   "cell_type": "code",
   "execution_count": 92,
   "metadata": {},
   "outputs": [
    {
     "data": {
      "text/plain": [
       "27"
      ]
     },
     "execution_count": 92,
     "metadata": {},
     "output_type": "execute_result"
    }
   ],
   "source": [
    "def luas_persegi (sisi):\n",
    "    luas = sisi * sisi\n",
    "    return luas\n",
    "\n",
    "def volume (sisi):\n",
    "    volume = luas_persegi (sisi) * sisi\n",
    "    return volume\n",
    "\n",
    "luas_persegi (2)\n",
    "volume (3)"
   ]
  },
  {
   "cell_type": "code",
   "execution_count": null,
   "metadata": {},
   "outputs": [],
   "source": []
  },
  {
   "cell_type": "code",
   "execution_count": null,
   "metadata": {},
   "outputs": [],
   "source": []
  }
 ],
 "metadata": {
  "kernelspec": {
   "display_name": "Python 3",
   "language": "python",
   "name": "python3"
  },
  "language_info": {
   "codemirror_mode": {
    "name": "ipython",
    "version": 3
   },
   "file_extension": ".py",
   "mimetype": "text/x-python",
   "name": "python",
   "nbconvert_exporter": "python",
   "pygments_lexer": "ipython3",
   "version": "3.8.3"
  }
 },
 "nbformat": 4,
 "nbformat_minor": 4
}
