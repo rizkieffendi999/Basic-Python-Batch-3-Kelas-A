{
 "cells": [
  {
   "cell_type": "markdown",
   "id": "authorized-batman",
   "metadata": {},
   "source": [
    "# Camelcase"
   ]
  },
  {
   "cell_type": "code",
   "execution_count": 5,
   "id": "unable-dover",
   "metadata": {},
   "outputs": [
    {
     "name": "stdout",
     "output_type": "stream",
     "text": [
      "Halo Apa Kabar\n"
     ]
    }
   ],
   "source": [
    "import camelcase\n",
    "c = camelcase.CamelCase()\n",
    "txt = \"halo apa kabar\"\n",
    "print(c.hump(txt))\n"
   ]
  },
  {
   "cell_type": "markdown",
   "id": "pressed-packaging",
   "metadata": {},
   "source": [
    "# Tuple"
   ]
  },
  {
   "cell_type": "code",
   "execution_count": 2,
   "id": "persistent-offense",
   "metadata": {},
   "outputs": [
    {
     "name": "stdout",
     "output_type": "stream",
     "text": [
      "('apel', 'mangga', 'jeruk')\n"
     ]
    }
   ],
   "source": [
    "my_tuple = (\"apel\", \"mangga\", \"jeruk\")\n",
    "print(my_tuple)"
   ]
  },
  {
   "cell_type": "code",
   "execution_count": 3,
   "id": "lovely-bangladesh",
   "metadata": {},
   "outputs": [
    {
     "name": "stdout",
     "output_type": "stream",
     "text": [
      "mangga\n"
     ]
    }
   ],
   "source": [
    "print(my_tuple[1])\n"
   ]
  },
  {
   "cell_type": "code",
   "execution_count": 4,
   "id": "voluntary-array",
   "metadata": {},
   "outputs": [
    {
     "ename": "TypeError",
     "evalue": "'tuple' object does not support item assignment",
     "output_type": "error",
     "traceback": [
      "\u001b[1;31m---------------------------------------------------------------------------\u001b[0m",
      "\u001b[1;31mTypeError\u001b[0m                                 Traceback (most recent call last)",
      "\u001b[1;32m<ipython-input-4-b99e9f58704b>\u001b[0m in \u001b[0;36m<module>\u001b[1;34m\u001b[0m\n\u001b[1;32m----> 1\u001b[1;33m \u001b[0mmy_tuple\u001b[0m\u001b[1;33m[\u001b[0m\u001b[1;36m2\u001b[0m\u001b[1;33m]\u001b[0m \u001b[1;33m=\u001b[0m \u001b[1;34m\"melon\"\u001b[0m\u001b[1;33m\u001b[0m\u001b[1;33m\u001b[0m\u001b[0m\n\u001b[0m\u001b[0;32m      2\u001b[0m \u001b[0mprint\u001b[0m\u001b[1;33m(\u001b[0m\u001b[0mmy_tuple\u001b[0m\u001b[1;33m)\u001b[0m\u001b[1;33m\u001b[0m\u001b[1;33m\u001b[0m\u001b[0m\n",
      "\u001b[1;31mTypeError\u001b[0m: 'tuple' object does not support item assignment"
     ]
    }
   ],
   "source": [
    "my_tuple[2] = \"melon\"\n",
    "print(my_tuple)\n"
   ]
  },
  {
   "cell_type": "markdown",
   "id": "wrapped-sellers",
   "metadata": {},
   "source": [
    "# Sets"
   ]
  },
  {
   "cell_type": "code",
   "execution_count": 12,
   "id": "thermal-surgeon",
   "metadata": {},
   "outputs": [
    {
     "name": "stdout",
     "output_type": "stream",
     "text": [
      "{'jeruk', 'apel', 'mangga'}\n",
      "<class 'set'>\n"
     ]
    }
   ],
   "source": [
    "my_sets = {\"apel\", \"mangga\", \"jeruk\"}\n",
    "print(my_sets)\n",
    "print(type(my_sets))"
   ]
  },
  {
   "cell_type": "code",
   "execution_count": 13,
   "id": "ready-appeal",
   "metadata": {},
   "outputs": [
    {
     "name": "stdout",
     "output_type": "stream",
     "text": [
      "jeruk\n",
      "apel\n",
      "mangga\n"
     ]
    }
   ],
   "source": [
    "for x in my_sets:\n",
    "    print(x)"
   ]
  },
  {
   "cell_type": "code",
   "execution_count": 14,
   "id": "expected-stupid",
   "metadata": {},
   "outputs": [
    {
     "name": "stdout",
     "output_type": "stream",
     "text": [
      "{'melon', 'jeruk', 'apel', 'mangga'}\n"
     ]
    }
   ],
   "source": [
    "my_sets.add(\"melon\")\n",
    "print(my_sets)\n"
   ]
  },
  {
   "cell_type": "code",
   "execution_count": 15,
   "id": "raised-container",
   "metadata": {},
   "outputs": [
    {
     "name": "stdout",
     "output_type": "stream",
     "text": [
      "{'jeruk', 'apel', 'mangga'}\n"
     ]
    }
   ],
   "source": [
    "my_sets.remove(\"melon\")\n",
    "print(my_sets)"
   ]
  },
  {
   "cell_type": "markdown",
   "id": "accepting-litigation",
   "metadata": {},
   "source": [
    "# Scope"
   ]
  },
  {
   "cell_type": "code",
   "execution_count": 18,
   "id": "characteristic-headline",
   "metadata": {},
   "outputs": [
    {
     "name": "stdout",
     "output_type": "stream",
     "text": [
      "200\n",
      "300\n"
     ]
    }
   ],
   "source": [
    "i=300\n",
    "\n",
    "def my_func():\n",
    "    i = 200\n",
    "    print(i)\n",
    "    \n",
    "my_func()\n",
    "print(i)"
   ]
  },
  {
   "cell_type": "code",
   "execution_count": 19,
   "id": "aerial-puzzle",
   "metadata": {},
   "outputs": [
    {
     "name": "stdout",
     "output_type": "stream",
     "text": [
      "500\n"
     ]
    }
   ],
   "source": [
    "i = 500\n",
    "print(i)"
   ]
  },
  {
   "cell_type": "markdown",
   "id": "taken-gardening",
   "metadata": {},
   "source": [
    "# Tambahan"
   ]
  },
  {
   "cell_type": "markdown",
   "id": "qualified-broad",
   "metadata": {},
   "source": [
    "## Slicing list"
   ]
  },
  {
   "cell_type": "code",
   "execution_count": 20,
   "id": "consolidated-grenada",
   "metadata": {},
   "outputs": [
    {
     "data": {
      "text/plain": [
       "['13b', 'aa1', 1.3, 22.5, 2.3]"
      ]
     },
     "execution_count": 20,
     "metadata": {},
     "output_type": "execute_result"
    }
   ],
   "source": [
    "a = [\"1\",\"13b\",\"aa1\", 1.3, 22.5, 2.3]\n",
    "a[1:6]"
   ]
  },
  {
   "cell_type": "code",
   "execution_count": 21,
   "id": "collective-entrepreneur",
   "metadata": {},
   "outputs": [
    {
     "data": {
      "text/plain": [
       "['aa1', 1.3, 22.5, 2.3]"
      ]
     },
     "execution_count": 21,
     "metadata": {},
     "output_type": "execute_result"
    }
   ],
   "source": [
    "a[2:6]"
   ]
  },
  {
   "cell_type": "code",
   "execution_count": 22,
   "id": "hired-arrest",
   "metadata": {},
   "outputs": [
    {
     "data": {
      "text/plain": [
       "['aa1', 1.3, 22.5]"
      ]
     },
     "execution_count": 22,
     "metadata": {},
     "output_type": "execute_result"
    }
   ],
   "source": [
    "a[2:5]"
   ]
  },
  {
   "cell_type": "markdown",
   "id": "foreign-jamaica",
   "metadata": {},
   "source": [
    "## Nested list"
   ]
  },
  {
   "cell_type": "code",
   "execution_count": 23,
   "id": "federal-suspension",
   "metadata": {},
   "outputs": [
    {
     "data": {
      "text/plain": [
       "[[1.3, 22.5, 2.3], ['1', '13b', 'aa1'], [3, 40, 100]]"
      ]
     },
     "execution_count": 23,
     "metadata": {},
     "output_type": "execute_result"
    }
   ],
   "source": [
    "b = [1.3, 22.5, 2.3]\n",
    "c = [\"1\",\"13b\",\"aa1\"]\n",
    "d = [3, 40, 100]\n",
    "\n",
    "#combine list\n",
    "e = [b,c,d]\n",
    "e"
   ]
  },
  {
   "cell_type": "markdown",
   "id": "velvet-person",
   "metadata": {},
   "source": [
    "## Sort list"
   ]
  },
  {
   "cell_type": "code",
   "execution_count": 27,
   "id": "greater-courtesy",
   "metadata": {},
   "outputs": [
    {
     "name": "stdout",
     "output_type": "stream",
     "text": [
      "[10, 9, 5, 4, 2, 1, 0]\n",
      "[0, 1, 2, 4, 5, 9, 10]\n",
      "[0, 5, 1, 2, 10, 4, 9]\n"
     ]
    }
   ],
   "source": [
    "f = [0, 5, 1, 2, 10, 4, 9]\n",
    "print(sorted(f, reverse=True))\n",
    "print(sorted(f, reverse=False))\n",
    "print(f)\n"
   ]
  },
  {
   "cell_type": "markdown",
   "id": "simplified-netscape",
   "metadata": {},
   "source": [
    "## List operation"
   ]
  },
  {
   "cell_type": "code",
   "execution_count": 28,
   "id": "spoken-programming",
   "metadata": {},
   "outputs": [
    {
     "data": {
      "text/plain": [
       "[1, 2, 3, 5, 6, 7]"
      ]
     },
     "execution_count": 28,
     "metadata": {},
     "output_type": "execute_result"
    }
   ],
   "source": [
    "g = [1,2,3]\n",
    "h = [5,6,7]\n",
    "\n",
    "g + h"
   ]
  },
  {
   "cell_type": "markdown",
   "id": "established-suggestion",
   "metadata": {},
   "source": [
    "## List manipulation"
   ]
  },
  {
   "cell_type": "code",
   "execution_count": 29,
   "id": "beginning-infrared",
   "metadata": {},
   "outputs": [
    {
     "name": "stdout",
     "output_type": "stream",
     "text": [
      "[[5, 9, 10], [11, 0, 6]]\n"
     ]
    }
   ],
   "source": [
    "i = [\n",
    "    [5,9,8],\n",
    "    [0,0,6]\n",
    "    ]\n",
    "\n",
    "i[0][2] = 10\n",
    "i[1][0] = 11\n",
    "print(i)\n",
    "\n"
   ]
  },
  {
   "cell_type": "markdown",
   "id": "dramatic-coalition",
   "metadata": {},
   "source": [
    "## List comprehension"
   ]
  },
  {
   "cell_type": "code",
   "execution_count": 36,
   "id": "spare-doctrine",
   "metadata": {},
   "outputs": [
    {
     "name": "stdout",
     "output_type": "stream",
     "text": [
      "[0, 1, 4, 9, 10, 16, 19, 25, 36, 40, 49, 60, 80, 91]\n",
      "[0, 4, 10, 16, 36, 40, 60, 80]\n"
     ]
    }
   ],
   "source": [
    "s = [0,1,4,9,10,16,19,25,36,40,49,60,80,91]\n",
    "\n",
    "t = [z for z in s if z%2==0]\n",
    "\n",
    "print(s)\n",
    "print(t)"
   ]
  },
  {
   "cell_type": "markdown",
   "id": "shaped-acrobat",
   "metadata": {},
   "source": [
    "## Nested dictionary"
   ]
  },
  {
   "cell_type": "code",
   "execution_count": 38,
   "id": "regular-passion",
   "metadata": {},
   "outputs": [
    {
     "name": "stdout",
     "output_type": "stream",
     "text": [
      "80\n"
     ]
    }
   ],
   "source": [
    "negara = {\n",
    "          \"spanyol\":{\"ibukota\":\"madrid\",\"populasi\": 46},\n",
    "          \"perancis\":{\"ibukota\":\"paris\",\"populasi\": 66},\n",
    "          \"jerman\":{\"ibukota\":\"berlin\",\"populasi\": 80},\n",
    "          \"inggris\":{\"ibukota\":\"london\",\"populasi\": 50}\n",
    "        }\n",
    "\n",
    "#berapa populasi dari ibukota jerman?\n",
    "print(negara[\"jerman\"][\"populasi\"])\n"
   ]
  },
  {
   "cell_type": "code",
   "execution_count": 39,
   "id": "cheap-lover",
   "metadata": {},
   "outputs": [
    {
     "name": "stdout",
     "output_type": "stream",
     "text": [
      "berlin\n"
     ]
    }
   ],
   "source": [
    "#nama ibukota jerman?\n",
    "print(negara[\"jerman\"][\"ibukota\"])"
   ]
  },
  {
   "cell_type": "code",
   "execution_count": 40,
   "id": "enabling-enforcement",
   "metadata": {},
   "outputs": [
    {
     "name": "stdout",
     "output_type": "stream",
     "text": [
      "{'spanyol': {'ibukota': 'madrid', 'populasi': 46}, 'perancis': {'ibukota': 'paris', 'populasi': 66}, 'jerman': {'ibukota': 'berlin', 'populasi': 80}, 'inggris': {'ibukota': 'london', 'populasi': 50}, 'indonesia': {'ibukota': 'jakarta', 'populasi': 270}}\n"
     ]
    }
   ],
   "source": [
    "#update data baru, yaitu indonesia, ibukota jakarta, populasi 270\n",
    "negara[\"indonesia\"] = {\"ibukota\": \"jakarta\", \"populasi\": 270}\n",
    "\n",
    "print(negara)\n"
   ]
  },
  {
   "cell_type": "markdown",
   "id": "competent-lithuania",
   "metadata": {},
   "source": [
    "## Loop nested dictionary"
   ]
  },
  {
   "cell_type": "code",
   "execution_count": 45,
   "id": "incorporated-basin",
   "metadata": {},
   "outputs": [
    {
     "name": "stdout",
     "output_type": "stream",
     "text": [
      "ibukota spanyol adalah madrid\n",
      "ibukota perancis adalah paris\n",
      "ibukota jerman adalah berlin\n",
      "ibukota inggris adalah london\n",
      "ibukota indonesia adalah jakarta\n"
     ]
    }
   ],
   "source": [
    "negara = {\n",
    "          \"spanyol\":{\"ibukota\":\"madrid\",\"populasi\": 46},\n",
    "          \"perancis\":{\"ibukota\":\"paris\",\"populasi\": 66},\n",
    "          \"jerman\":{\"ibukota\":\"berlin\",\"populasi\": 80},\n",
    "          \"inggris\":{\"ibukota\":\"london\",\"populasi\": 50},\n",
    "          \"indonesia\":{\"ibukota\":\"jakarta\",\"populasi\": 270}\n",
    "        }\n",
    "\n",
    "for y, v in negara.items():\n",
    "    print(\"ibukota\", y, \"adalah\", v[\"ibukota\"])\n"
   ]
  },
  {
   "cell_type": "code",
   "execution_count": null,
   "id": "advisory-continent",
   "metadata": {},
   "outputs": [],
   "source": []
  }
 ],
 "metadata": {
  "kernelspec": {
   "display_name": "Python 3",
   "language": "python",
   "name": "python3"
  },
  "language_info": {
   "codemirror_mode": {
    "name": "ipython",
    "version": 3
   },
   "file_extension": ".py",
   "mimetype": "text/x-python",
   "name": "python",
   "nbconvert_exporter": "python",
   "pygments_lexer": "ipython3",
   "version": "3.8.3"
  }
 },
 "nbformat": 4,
 "nbformat_minor": 5
}
