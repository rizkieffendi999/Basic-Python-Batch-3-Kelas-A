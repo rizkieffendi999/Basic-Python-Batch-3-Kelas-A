{
 "cells": [
  {
   "cell_type": "markdown",
   "metadata": {},
   "source": [
    "# Pembahasan assignment#1 "
   ]
  },
  {
   "cell_type": "code",
   "execution_count": 4,
   "metadata": {},
   "outputs": [
    {
     "name": "stdout",
     "output_type": "stream",
     "text": [
      "Selamat datang!\n",
      "--Menu--\n",
      "1. Daftar Kontak\n",
      "2. Tambah Kontak\n",
      "3. Keluar\n"
     ]
    },
    {
     "name": "stdin",
     "output_type": "stream",
     "text": [
      "Pilih menu (hanya angka): 1\n"
     ]
    },
    {
     "name": "stdout",
     "output_type": "stream",
     "text": [
      "Daftar Kontak:\n",
      "Nama: Fawwaz\n",
      "Nomer Telepon: 08123456789\n",
      "Nama: John\n",
      "Nomer Telepon: 08987654321\n",
      "--Menu--\n",
      "1. Daftar Kontak\n",
      "2. Tambah Kontak\n",
      "3. Keluar\n"
     ]
    },
    {
     "name": "stdin",
     "output_type": "stream",
     "text": [
      "Pilih menu (hanya angka): 2\n",
      "Nama :  Rizki\n",
      "Nomer Telepon :  0888333300\n"
     ]
    },
    {
     "name": "stdout",
     "output_type": "stream",
     "text": [
      "Kontak berhasil ditambahkan\n",
      "--Menu--\n",
      "1. Daftar Kontak\n",
      "2. Tambah Kontak\n",
      "3. Keluar\n"
     ]
    },
    {
     "name": "stdin",
     "output_type": "stream",
     "text": [
      "Pilih menu (hanya angka): 1\n"
     ]
    },
    {
     "name": "stdout",
     "output_type": "stream",
     "text": [
      "Daftar Kontak:\n",
      "Nama: Fawwaz\n",
      "Nomer Telepon: 08123456789\n",
      "Nama: John\n",
      "Nomer Telepon: 08987654321\n",
      "Nama: Rizki\n",
      "Nomer Telepon: 0888333300\n",
      "--Menu--\n",
      "1. Daftar Kontak\n",
      "2. Tambah Kontak\n",
      "3. Keluar\n"
     ]
    },
    {
     "name": "stdin",
     "output_type": "stream",
     "text": [
      "Pilih menu (hanya angka): 3\n"
     ]
    },
    {
     "name": "stdout",
     "output_type": "stream",
     "text": [
      "Program selesai, sampai jumpa!\n"
     ]
    }
   ],
   "source": [
    "#Cara 1\n",
    "\n",
    "print (\"Selamat datang!\")\n",
    "\n",
    "nama_kontak = [\"Fawwaz\", \"John\"]\n",
    "nomer_kontak = [\"08123456789\",\"08987654321\"]\n",
    "\n",
    "def show_menu():\n",
    "    print (\"--Menu--\")\n",
    "    print (\"1. Daftar Kontak\")\n",
    "    print (\"2. Tambah Kontak\")\n",
    "    print (\"3. Keluar\")\n",
    "\n",
    "def tampilkan_kontak():\n",
    "    print(\"Daftar Kontak:\")\n",
    "    for i in range(len(nama_kontak)):\n",
    "        print(\"Nama: {}\".format(nama_kontak[i]))\n",
    "        print(\"Nomer Telepon: {}\".format(nomer_kontak[i]))\n",
    "    \n",
    "def tambah_kontak():\n",
    "    nama = input(\"Nama : \")\n",
    "    nomer = str(input(\"Nomer Telepon : \"))\n",
    "    nama_kontak.append(nama)\n",
    "    nomer_kontak.append(nomer)\n",
    "    print(\"Kontak berhasil ditambahkan\")\n",
    "        \n",
    "while True:\n",
    "    show_menu()\n",
    "    \n",
    "    menu = int(input(\"Pilih menu (hanya angka):\"))\n",
    "    \n",
    "    if menu == 1: \n",
    "        tampilkan_kontak()\n",
    "    elif menu == 2: \n",
    "        tambah_kontak()\n",
    "    elif menu == 3: \n",
    "        print(\"Program selesai, sampai jumpa!\")\n",
    "        break\n",
    "    else: \n",
    "        print (\"Menu tidak tersedia\")\n",
    "        "
   ]
  },
  {
   "cell_type": "code",
   "execution_count": 5,
   "metadata": {},
   "outputs": [
    {
     "name": "stdout",
     "output_type": "stream",
     "text": [
      "Selamat Datang!\n",
      "--- Menu ---\n",
      "1. Daftar Kontak\n",
      "2. Tambah Kontak\n",
      "3. Keluar\n"
     ]
    },
    {
     "name": "stdin",
     "output_type": "stream",
     "text": [
      "Pilih menu:  1\n"
     ]
    },
    {
     "name": "stdout",
     "output_type": "stream",
     "text": [
      "Daftar Kontak:\n",
      "--- Menu ---\n",
      "1. Daftar Kontak\n",
      "2. Tambah Kontak\n",
      "3. Keluar\n"
     ]
    },
    {
     "name": "stdin",
     "output_type": "stream",
     "text": [
      "Pilih menu:  2\n",
      "Nama:  Rizki\n",
      "No Telepon:  088833666\n"
     ]
    },
    {
     "name": "stdout",
     "output_type": "stream",
     "text": [
      "Kontak berhasil ditambahkan\n",
      "--- Menu ---\n",
      "1. Daftar Kontak\n",
      "2. Tambah Kontak\n",
      "3. Keluar\n"
     ]
    },
    {
     "name": "stdin",
     "output_type": "stream",
     "text": [
      "Pilih menu:  1\n"
     ]
    },
    {
     "name": "stdout",
     "output_type": "stream",
     "text": [
      "Daftar Kontak:\n",
      "Nama: Rizki\n",
      "No Telepon: 088833666\n",
      "--- Menu ---\n",
      "1. Daftar Kontak\n",
      "2. Tambah Kontak\n",
      "3. Keluar\n"
     ]
    },
    {
     "name": "stdin",
     "output_type": "stream",
     "text": [
      "Pilih menu:  3\n"
     ]
    },
    {
     "name": "stdout",
     "output_type": "stream",
     "text": [
      "Program selesai, sampai jumpa!\n"
     ]
    }
   ],
   "source": [
    "#Cara 2\n",
    "\n",
    "print(\"Selamat Datang!\")\n",
    "\n",
    "daftar_kontak = []\n",
    "\n",
    "def tampilkan_menu():\n",
    "    print(\"--- Menu ---\")\n",
    "    print(\"1. Daftar Kontak\")\n",
    "    print(\"2. Tambah Kontak\")\n",
    "    print(\"3. Keluar\")\n",
    "\n",
    "def tampilkan_kontak():\n",
    "    print(\"Daftar Kontak:\")\n",
    "    for kontak in daftar_kontak:\n",
    "        print(\"Nama: \" + kontak[\"nama\"])\n",
    "        print(\"No Telepon: \" + kontak[\"telp\"])\n",
    "\n",
    "def tambah_kontak():\n",
    "    nama = input(\"Nama: \")\n",
    "    telp = input(\"No Telepon: \")\n",
    "    kontak = {\n",
    "        \"nama\": nama,\n",
    "        \"telp\": telp\n",
    "    }\n",
    "    daftar_kontak.append(kontak)\n",
    "    print(\"Kontak berhasil ditambahkan\")\n",
    "\n",
    "while True:\n",
    "\n",
    "    tampilkan_menu()\n",
    "\n",
    "    menu = input(\"Pilih menu: \")\n",
    "\n",
    "    if menu == \"1\":\n",
    "        tampilkan_kontak()\n",
    "    elif menu == \"2\":\n",
    "        tambah_kontak()\n",
    "    elif menu == \"3\":\n",
    "        print(\"Program selesai, sampai jumpa!\")\n",
    "        break\n",
    "    else:\n",
    "        print(\"Menu tidak tersedia\")\n",
    "\n"
   ]
  },
  {
   "cell_type": "markdown",
   "metadata": {},
   "source": [
    "# Date"
   ]
  },
  {
   "cell_type": "code",
   "execution_count": 2,
   "metadata": {},
   "outputs": [
    {
     "name": "stdout",
     "output_type": "stream",
     "text": [
      "2021-01-23 13:47:37.980274\n",
      "2021\n",
      "A = Saturday\n",
      "a = Sat\n",
      "w = 6\n",
      "d = 23\n",
      "b = Jan\n",
      "B = January\n",
      "m = 01\n",
      "y = 21\n",
      "Y = 2021\n",
      "H = 13\n",
      "I = 01\n",
      "p = PM\n",
      "M = 47\n",
      "S = 37\n",
      "f = 980274\n",
      "j = 023\n",
      "U = 03\n",
      "W = 03\n",
      "c = Sat Jan 23 13:47:37 2021\n",
      "x = 01/23/21\n",
      "X = 13:47:37\n",
      "2020-05-17\n",
      "May\n",
      "12:05:17\n"
     ]
    }
   ],
   "source": [
    "# date time\n",
    "import datetime\n",
    "\n",
    "x = datetime.datetime.now()\n",
    "print(x)\n",
    "print(x.year)\n",
    "print(\"A = \" + x.strftime(\"%A\"))\n",
    "print(\"a = \" + x.strftime(\"%a\"))\n",
    "print(\"w = \" + x.strftime(\"%w\"))\n",
    "print(\"d = \" + x.strftime(\"%d\"))\n",
    "print(\"b = \" + x.strftime(\"%b\"))\n",
    "print(\"B = \" + x.strftime(\"%B\"))\n",
    "print(\"m = \" + x.strftime(\"%m\"))\n",
    "print(\"y = \" + x.strftime(\"%y\"))\n",
    "print(\"Y = \" + x.strftime(\"%Y\"))\n",
    "print(\"H = \" + x.strftime(\"%H\"))\n",
    "print(\"I = \" + x.strftime(\"%I\"))\n",
    "print(\"p = \" + x.strftime(\"%p\"))\n",
    "print(\"M = \" + x.strftime(\"%M\"))\n",
    "print(\"S = \" + x.strftime(\"%S\"))\n",
    "print(\"f = \" + x.strftime(\"%f\"))\n",
    "print(\"j = \" + x.strftime(\"%j\"))\n",
    "print(\"U = \" + x.strftime(\"%U\"))\n",
    "print(\"W = \" + x.strftime(\"%W\"))\n",
    "print(\"c = \" + x.strftime(\"%c\"))\n",
    "print(\"x = \" + x.strftime(\"%x\"))\n",
    "print(\"X = \" + x.strftime(\"%X\"))\n",
    "\n",
    "#setting manual data in datetime format\n",
    "y = datetime.date(2020, 5, 17)\n",
    "print(y)\n",
    "print(y.strftime(\"%B\"))\n",
    "\n",
    "z = datetime.time(12, 5, 17)\n",
    "print(z)"
   ]
  },
  {
   "cell_type": "code",
   "execution_count": 7,
   "metadata": {},
   "outputs": [
    {
     "name": "stdout",
     "output_type": "stream",
     "text": [
      "2021-01-23 14:01:04.078735\n",
      "23-01-2021\n",
      "Saturday\n",
      "Sabtu\n"
     ]
    }
   ],
   "source": [
    "import datetime\n",
    "\n",
    "x = datetime.datetime.now()\n",
    "print(x)\n",
    "print(x.strftime(\"%d-%m-%Y\"))\n",
    "hari = x.strftime(\"%A\")\n",
    "print(hari)\n",
    "\n",
    "hari_ind = {\"Sunday\": \"Minggu\",\"Monday\": \"Senin\",\"Tuesday\": \"Selasa\",\"Wednesday\": \"Rabu\",\"Thursday\": \"Kamis\",\n",
    "            \"Friday\": \"Jumat\",\"Saturday\": \"Sabtu\"\n",
    "}\n",
    "\n",
    "print(\"{}\".format(hari_ind[hari]))\n"
   ]
  },
  {
   "cell_type": "markdown",
   "metadata": {},
   "source": [
    "# Math"
   ]
  },
  {
   "cell_type": "code",
   "execution_count": 2,
   "metadata": {},
   "outputs": [
    {
     "name": "stdout",
     "output_type": "stream",
     "text": [
      "3.141592653589793\n",
      "11.180339887498949\n",
      "8\n",
      "7\n",
      "1.0\n",
      "125.0\n"
     ]
    }
   ],
   "source": [
    "#math module\n",
    "import math\n",
    "\n",
    "x = math.pi\n",
    "print(x)\n",
    "\n",
    "x = math.sqrt(125)\n",
    "print(x)\n",
    "\n",
    "x = math.ceil(7.9)\n",
    "print(x)\n",
    "\n",
    "x = math.floor(7.9)\n",
    "print(x) \n",
    "\n",
    "x = math.fmod(10,3)\n",
    "print(x) \n",
    "\n",
    "x = math.pow(5,3)\n",
    "print(x)"
   ]
  },
  {
   "cell_type": "markdown",
   "metadata": {},
   "source": [
    "# File Handling"
   ]
  },
  {
   "cell_type": "code",
   "execution_count": 9,
   "metadata": {},
   "outputs": [],
   "source": [
    "# create file\n",
    "# write & append\n",
    "\n",
    "f = open(\"Tes File Baru.txt\", \"a\")\n",
    "f.write(\"Menambahkan text\")\n",
    "f.close()"
   ]
  },
  {
   "cell_type": "code",
   "execution_count": 15,
   "metadata": {},
   "outputs": [],
   "source": [
    "f = open(\"Tes File Baru.txt\", \"w\")\n",
    "f.write(\"Halo nama saya Adi\")\n",
    "f.close()"
   ]
  },
  {
   "cell_type": "code",
   "execution_count": 16,
   "metadata": {},
   "outputs": [
    {
     "name": "stdout",
     "output_type": "stream",
     "text": [
      "Halo nama saya Adi\n"
     ]
    }
   ],
   "source": [
    "f = open(\"Tes File Baru.txt\", \"r\")\n",
    "print(f.read())"
   ]
  },
  {
   "cell_type": "code",
   "execution_count": 20,
   "metadata": {},
   "outputs": [
    {
     "name": "stdout",
     "output_type": "stream",
     "text": [
      "Halo nama \n"
     ]
    }
   ],
   "source": [
    "f = open(\"Tes File Baru.txt\", \"r\")\n",
    "print(f.read(10))"
   ]
  },
  {
   "cell_type": "code",
   "execution_count": 21,
   "metadata": {},
   "outputs": [
    {
     "ename": "AttributeError",
     "evalue": "'_io.TextIOWrapper' object has no attribute 'readLine'",
     "output_type": "error",
     "traceback": [
      "\u001b[1;31m---------------------------------------------------------------------------\u001b[0m",
      "\u001b[1;31mAttributeError\u001b[0m                            Traceback (most recent call last)",
      "\u001b[1;32m<ipython-input-21-b06af76eff7c>\u001b[0m in \u001b[0;36m<module>\u001b[1;34m\u001b[0m\n\u001b[0;32m      1\u001b[0m \u001b[0mf\u001b[0m \u001b[1;33m=\u001b[0m \u001b[0mopen\u001b[0m\u001b[1;33m(\u001b[0m\u001b[1;34m\"Tes File Baru.txt\"\u001b[0m\u001b[1;33m,\u001b[0m \u001b[1;34m\"r\"\u001b[0m\u001b[1;33m)\u001b[0m\u001b[1;33m\u001b[0m\u001b[1;33m\u001b[0m\u001b[0m\n\u001b[1;32m----> 2\u001b[1;33m \u001b[0mprint\u001b[0m\u001b[1;33m(\u001b[0m\u001b[0mf\u001b[0m\u001b[1;33m.\u001b[0m\u001b[0mreadLine\u001b[0m\u001b[1;33m(\u001b[0m\u001b[1;33m)\u001b[0m\u001b[1;33m)\u001b[0m\u001b[1;33m\u001b[0m\u001b[1;33m\u001b[0m\u001b[0m\n\u001b[0m",
      "\u001b[1;31mAttributeError\u001b[0m: '_io.TextIOWrapper' object has no attribute 'readLine'"
     ]
    }
   ],
   "source": [
    "f = open(\"Tes File Baru.txt\", \"r\")\n",
    "print(f.readLine())"
   ]
  },
  {
   "cell_type": "code",
   "execution_count": null,
   "metadata": {},
   "outputs": [],
   "source": [
    "import os\n",
    "\n",
    "os.remove(\"Tes File Baru.txt\")\n"
   ]
  },
  {
   "cell_type": "code",
   "execution_count": 11,
   "metadata": {},
   "outputs": [
    {
     "name": "stdout",
     "output_type": "stream",
     "text": [
      "file tidak ada\n"
     ]
    }
   ],
   "source": [
    "import os\n",
    "\n",
    "file_path = \"Tes File Baru.txt\"\n",
    "\n",
    "if os.path.exists(file_path):\n",
    "    os.remove(file_path)\n",
    "    print(\"file\",file_path,\"deleted\")\n",
    "else:\n",
    "    print(\"file tidak ada\")\n",
    "    "
   ]
  },
  {
   "cell_type": "code",
   "execution_count": null,
   "metadata": {},
   "outputs": [],
   "source": []
  },
  {
   "cell_type": "code",
   "execution_count": null,
   "metadata": {},
   "outputs": [],
   "source": []
  }
 ],
 "metadata": {
  "kernelspec": {
   "display_name": "Python 3",
   "language": "python",
   "name": "python3"
  },
  "language_info": {
   "codemirror_mode": {
    "name": "ipython",
    "version": 3
   },
   "file_extension": ".py",
   "mimetype": "text/x-python",
   "name": "python",
   "nbconvert_exporter": "python",
   "pygments_lexer": "ipython3",
   "version": "3.8.3"
  }
 },
 "nbformat": 4,
 "nbformat_minor": 4
}
