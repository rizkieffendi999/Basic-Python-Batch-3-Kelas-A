{
 "cells": [
  {
   "cell_type": "markdown",
   "metadata": {},
   "source": [
    "# Pembahasan assingment#1"
   ]
  },
  {
   "cell_type": "code",
   "execution_count": null,
   "metadata": {},
   "outputs": [],
   "source": [
    "# Soal 1\n",
    "nama = input(\"Nama: \")\n",
    "umur = int(input(\"Umur: \"))\n",
    "tinggi = float(input(\"Tinggi: \"))\n",
    "\n",
    "text = \"Nama saya {}, umur saya {} tahun dan tinggi saya {} cm\".format(nama, umur, tinggi)\n",
    "\n",
    "print(text)"
   ]
  },
  {
   "cell_type": "code",
   "execution_count": 6,
   "metadata": {},
   "outputs": [
    {
     "name": "stdin",
     "output_type": "stream",
     "text": [
      "Masukkan jari-jari lingkaran:  13\n"
     ]
    },
    {
     "name": "stdout",
     "output_type": "stream",
     "text": [
      "Luas Lingkaran dengan jari-jari 13.0 cm adalah 531.14 cm²\n",
      "Luas Lingkaran dengan jari-jari 13.0 cm adalah 531.14 cm²\n"
     ]
    }
   ],
   "source": [
    "# Soal 2\n",
    "\n",
    "r = float(input(\"Masukkan jari-jari lingkaran: \"))\n",
    "pi = 22/7\n",
    "\n",
    "luas = pi * r * r\n",
    "luas2 = round(luas,2)\n",
    "\n",
    "print(\"Luas Lingkaran dengan jari-jari\",r,\"cm adalah\", luas2,\"cm\\u00b2\")\n",
    "print(\"Luas Lingkaran dengan jari-jari\",r,\"cm adalah {:.2f}\".format(luas),\"cm\\u00b2\")"
   ]
  },
  {
   "cell_type": "code",
   "execution_count": 7,
   "metadata": {},
   "outputs": [
    {
     "name": "stdin",
     "output_type": "stream",
     "text": [
      "Nilai minimun:  70\n",
      "Nilai teori:  13\n",
      "Nilai prakrek:  100\n"
     ]
    },
    {
     "name": "stdout",
     "output_type": "stream",
     "text": [
      "Anda mengulang ujian teori\n"
     ]
    }
   ],
   "source": [
    "# Soal 3\n",
    "\n",
    "nilai_minimum = float(input(\"Nilai minimun: \"))\n",
    "\n",
    "nilai_teori = float(input(\"Nilai teori: \"))\n",
    "nilai_praktek = float(input(\"Nilai prakrek: \"))\n",
    "\n",
    "if nilai_teori >= nilai_minimum and nilai_praktek >= nilai_minimum:\n",
    "    print(\"Lulus\")\n",
    "elif nilai_teori >= nilai_minimum and nilai_praktek < nilai_minimum:\n",
    "    print(\"Anda mengulang ujian praktek\")\n",
    "elif nilai_teori < nilai_minimum and nilai_praktek >= nilai_minimum:\n",
    "    print(\"Anda mengulang ujian teori\")\n",
    "else:\n",
    "    print(\"Anda mengulang ujian teori dan praktek\")"
   ]
  },
  {
   "cell_type": "markdown",
   "metadata": {},
   "source": [
    "# Break"
   ]
  },
  {
   "cell_type": "code",
   "execution_count": 14,
   "metadata": {},
   "outputs": [
    {
     "name": "stdout",
     "output_type": "stream",
     "text": [
      "0\n",
      "1\n",
      "2\n"
     ]
    }
   ],
   "source": [
    "for i in range (5):\n",
    "    if i == 3:\n",
    "        break\n",
    "    print(i)"
   ]
  },
  {
   "cell_type": "code",
   "execution_count": 21,
   "metadata": {},
   "outputs": [
    {
     "name": "stdout",
     "output_type": "stream",
     "text": [
      "3\n"
     ]
    }
   ],
   "source": [
    "for i in range (5):\n",
    "    if i == 3:\n",
    "        break\n",
    "print(i)"
   ]
  },
  {
   "cell_type": "markdown",
   "metadata": {},
   "source": [
    "# Continue"
   ]
  },
  {
   "cell_type": "code",
   "execution_count": 18,
   "metadata": {},
   "outputs": [
    {
     "name": "stdout",
     "output_type": "stream",
     "text": [
      "0\n",
      "2\n",
      "3\n",
      "4\n"
     ]
    }
   ],
   "source": [
    "for i in range (5):\n",
    "    if i == 1:\n",
    "        continue\n",
    "    print(i)"
   ]
  },
  {
   "cell_type": "markdown",
   "metadata": {},
   "source": [
    "# List"
   ]
  },
  {
   "cell_type": "code",
   "execution_count": 27,
   "metadata": {},
   "outputs": [
    {
     "name": "stdout",
     "output_type": "stream",
     "text": [
      "['a', 'b', 'c', 'd', 'e']\n",
      "['b', 'c', 'd', 'e']\n"
     ]
    }
   ],
   "source": [
    "mylist = [\"a\",\"b\",\"c\",\"d\",\"e\"]\n",
    "print(mylist)\n",
    "mylist.remove(\"a\")\n",
    "print(mylist)"
   ]
  },
  {
   "cell_type": "markdown",
   "metadata": {},
   "source": [
    "# Nested Loop"
   ]
  },
  {
   "cell_type": "code",
   "execution_count": 29,
   "metadata": {},
   "outputs": [
    {
     "name": "stdout",
     "output_type": "stream",
     "text": [
      "i:0,j:0\n",
      "i:0,j:1\n",
      "i:0,j:2\n",
      "\n",
      "i:1,j:0\n",
      "i:1,j:1\n",
      "i:1,j:2\n",
      "\n"
     ]
    }
   ],
   "source": [
    "for i in range(2):\n",
    "    for j in range (3):\n",
    "        print (\"i:{},j:{}\".format(i,j))\n",
    "    print()\n",
    "    "
   ]
  },
  {
   "cell_type": "code",
   "execution_count": 31,
   "metadata": {},
   "outputs": [
    {
     "name": "stdout",
     "output_type": "stream",
     "text": [
      "i:0,j:0 i:0,j:1 i:0,j:2 \n",
      "i:1,j:0 i:1,j:1 i:1,j:2 \n"
     ]
    }
   ],
   "source": [
    "for i in range(2):\n",
    "    for j in range (3):\n",
    "        print (\"i:{},j:{}\".format(i,j), end = \" \")\n",
    "    print()\n",
    "    "
   ]
  },
  {
   "cell_type": "code",
   "execution_count": 30,
   "metadata": {},
   "outputs": [
    {
     "name": "stdout",
     "output_type": "stream",
     "text": [
      "1.1 1.2 1.3 1.4 1.5 \n",
      "2.1 2.2 2.3 2.4 2.5 \n",
      "3.1 3.2 3.3 3.4 3.5 \n",
      "4.1 4.2 4.3 4.4 4.5 \n",
      "5.1 5.2 5.3 5.4 5.5 \n"
     ]
    }
   ],
   "source": [
    "for baris in range(5):\n",
    "    for kolom in range(5):\n",
    "        print(\"{}.{}\".format(baris+1, kolom+1), end = \" \")\n",
    "    print(\"\")"
   ]
  },
  {
   "cell_type": "code",
   "execution_count": 32,
   "metadata": {},
   "outputs": [
    {
     "name": "stdout",
     "output_type": "stream",
     "text": [
      "1.1\n",
      "1.2\n",
      "1.3\n",
      "1.4\n",
      "1.5\n",
      "\n",
      "2.1\n",
      "2.2\n",
      "2.3\n",
      "2.4\n",
      "2.5\n",
      "\n",
      "3.1\n",
      "3.2\n",
      "3.3\n",
      "3.4\n",
      "3.5\n",
      "\n",
      "4.1\n",
      "4.2\n",
      "4.3\n",
      "4.4\n",
      "4.5\n",
      "\n",
      "5.1\n",
      "5.2\n",
      "5.3\n",
      "5.4\n",
      "5.5\n",
      "\n"
     ]
    }
   ],
   "source": [
    "for baris in range(5):\n",
    "    for kolom in range(5):\n",
    "        print(\"{}.{}\".format(baris+1, kolom+1))\n",
    "    print(\"\")"
   ]
  },
  {
   "cell_type": "markdown",
   "metadata": {},
   "source": [
    "## Pendalaman Loop\n",
    "Kita diminta membuat sebuah program untuk menerima memasukkan sejumlah data pelanggan\n",
    "sejumlah n orang dengan n adalah integer berisi nama dan umur.\n",
    "\n",
    "Contoh:\n",
    "    \n",
    "Berapa data pelanggan: 2\n",
    "\n",
    "Masukkan data pelanggan\n",
    "\n",
    "Pelanggan ke 1\n",
    "Nama : Iqbal\n",
    "Umur : 21\n",
    "Pelanggan ke 2\n",
    "Nama : Aris\n",
    "Umur : 22\n",
    "\n",
    "Pelanggan yang terdaftar adalah :\n",
    "\n",
    "Pelanggan Iqbal berumur 21\n",
    "Pelanggan Aris berumur 22\n"
   ]
  },
  {
   "cell_type": "code",
   "execution_count": 1,
   "metadata": {},
   "outputs": [
    {
     "name": "stdin",
     "output_type": "stream",
     "text": [
      "Berapa data pelanggan : 2\n"
     ]
    },
    {
     "name": "stdout",
     "output_type": "stream",
     "text": [
      "\n",
      "Masukkan data pelanggan :\n",
      "\n",
      "Pelanggan ke 1\n"
     ]
    },
    {
     "name": "stdin",
     "output_type": "stream",
     "text": [
      "Nama : Iqbal\n",
      "Umur : 21\n"
     ]
    },
    {
     "name": "stdout",
     "output_type": "stream",
     "text": [
      "Pelanggan ke 2\n"
     ]
    },
    {
     "name": "stdin",
     "output_type": "stream",
     "text": [
      "Nama : Aris\n",
      "Umur : 22\n"
     ]
    },
    {
     "name": "stdout",
     "output_type": "stream",
     "text": [
      "\n",
      "Pelanggan yang terdaftar adalah :\n",
      "Pelanggan Iqbal berumur 21\n",
      "Pelanggan Aris berumur 22\n",
      "\n",
      "Pelanggan ['Iqbal', 'Aris'] berumur [21, 22]\n",
      "Pelanggan ['Iqbal', 'Aris'] berumur [21, 22]\n"
     ]
    }
   ],
   "source": [
    "count = int(input(\"Berapa data pelanggan :\"))\n",
    "\n",
    "nama_pelanggan = []\n",
    "umur_pelanggan = []\n",
    "\n",
    "print(\"\\nMasukkan data pelanggan :\\n\")\n",
    "\n",
    "for i in range (count):\n",
    "    print(\"Pelanggan ke {}\".format(i+1))\n",
    "    nama = input (\"Nama :\")\n",
    "    umur = int(input(\"Umur :\"))\n",
    "    \n",
    "    nama_pelanggan.append(nama)\n",
    "    umur_pelanggan.append(umur)\n",
    "\n",
    "print(\"\\nPelanggan yang terdaftar adalah :\")\n",
    "\n",
    "for i in range(len(nama_pelanggan)):\n",
    "    print(\"Pelanggan {} berumur {}\".format(nama_pelanggan[i], umur_pelanggan[i]))\n",
    "\n",
    "print(\"\")\n",
    "for i in range(len(nama_pelanggan)):\n",
    "    print(\"Pelanggan {} berumur {}\".format(nama_pelanggan, umur_pelanggan))\n"
   ]
  },
  {
   "cell_type": "markdown",
   "metadata": {},
   "source": [
    "# Range"
   ]
  },
  {
   "cell_type": "code",
   "execution_count": 3,
   "metadata": {},
   "outputs": [
    {
     "name": "stdout",
     "output_type": "stream",
     "text": [
      "0\n",
      "1\n",
      "2\n"
     ]
    }
   ],
   "source": [
    "for i in range(3):\n",
    "    print(i)"
   ]
  },
  {
   "cell_type": "code",
   "execution_count": 4,
   "metadata": {},
   "outputs": [
    {
     "name": "stdout",
     "output_type": "stream",
     "text": [
      "1\n",
      "2\n"
     ]
    }
   ],
   "source": [
    "for x in range(1,3):\n",
    "    print(x)"
   ]
  },
  {
   "cell_type": "code",
   "execution_count": 5,
   "metadata": {},
   "outputs": [
    {
     "name": "stdout",
     "output_type": "stream",
     "text": [
      "2\n",
      "5\n",
      "8\n",
      "11\n",
      "14\n",
      "17\n"
     ]
    }
   ],
   "source": [
    "for y in range(2,20,3):\n",
    "    print(y)\n"
   ]
  },
  {
   "cell_type": "code",
   "execution_count": 6,
   "metadata": {},
   "outputs": [
    {
     "name": "stdout",
     "output_type": "stream",
     "text": [
      "1\n",
      "2\n",
      "3\n",
      "4\n",
      "5\n",
      "6\n",
      "7\n",
      "8\n",
      "9\n",
      "10\n"
     ]
    }
   ],
   "source": [
    "for z in range(1,11):\n",
    "    print(z)"
   ]
  },
  {
   "cell_type": "markdown",
   "metadata": {},
   "source": [
    "# Tambahan"
   ]
  },
  {
   "cell_type": "markdown",
   "metadata": {},
   "source": [
    "        * \n",
    "     *  *  * \n",
    "  *  *  *  *  * \n"
   ]
  },
  {
   "cell_type": "code",
   "execution_count": 2,
   "metadata": {},
   "outputs": [
    {
     "name": "stdin",
     "output_type": "stream",
     "text": [
      "Masukkan angka : 3\n"
     ]
    },
    {
     "name": "stdout",
     "output_type": "stream",
     "text": [
      "         \n",
      "       * \n",
      "    *  *  * \n",
      " *  *  *  *  * \n",
      "\n"
     ]
    }
   ],
   "source": [
    "string = \"\"\n",
    "\n",
    "x = int(input(\"Masukkan angka :\"))\n",
    "bar = x\n",
    "# Looping Baris\n",
    "while bar >= 0:\n",
    "# Looping Kolom Spasi Kosong\n",
    "    kol = bar\n",
    "    while kol > 0:\n",
    "        string = string + \"   \"\n",
    "        kol = kol - 1\n",
    "    \n",
    "    # Looping Kolom Bintang Sisi Kiri\n",
    "    kiri = 1\n",
    "    while kiri < (x - (bar-1)):\n",
    "        string = string + \" * \"\n",
    "        kiri = kiri + 1\n",
    "        \n",
    "    # Looping Kolom Bintang Sisi Kanan\n",
    "    kanan = 1\n",
    "    while kanan < kiri -1:\n",
    "        string = string + \" * \"\n",
    "        kanan = kanan + 1\n",
    "\n",
    "    string = string + \"\\n\"\n",
    "    bar = bar - 1\n",
    "    \n",
    "print (string)\n"
   ]
  },
  {
   "cell_type": "code",
   "execution_count": null,
   "metadata": {},
   "outputs": [],
   "source": []
  },
  {
   "cell_type": "code",
   "execution_count": null,
   "metadata": {},
   "outputs": [],
   "source": []
  }
 ],
 "metadata": {
  "kernelspec": {
   "display_name": "Python 3",
   "language": "python",
   "name": "python3"
  },
  "language_info": {
   "codemirror_mode": {
    "name": "ipython",
    "version": 3
   },
   "file_extension": ".py",
   "mimetype": "text/x-python",
   "name": "python",
   "nbconvert_exporter": "python",
   "pygments_lexer": "ipython3",
   "version": "3.8.3"
  }
 },
 "nbformat": 4,
 "nbformat_minor": 4
}
